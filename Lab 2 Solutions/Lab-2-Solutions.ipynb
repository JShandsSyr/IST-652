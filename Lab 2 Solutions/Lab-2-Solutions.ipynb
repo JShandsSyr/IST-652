{
 "cells": [
  {
   "cell_type": "markdown",
   "metadata": {},
   "source": [
    "# Lab 2 Solutions (with modified code from Pierre Casco)\n"
   ]
  },
  {
   "cell_type": "code",
   "execution_count": 2,
   "metadata": {},
   "outputs": [],
   "source": [
    "# Load dictionaries\n",
    "\n",
    "stock = {\"banana\":6,\"apple\":0,\"orange\":32,\"pear\":15}\n",
    "\n",
    "prices = {\"banana\":4,\"apple\":2,\"orange\":1.5,\"pear\":3}"
   ]
  },
  {
   "cell_type": "markdown",
   "metadata": {},
   "source": [
    "## a. Show the expression that gets the value of the stock dictionary at the key ‘orange’."
   ]
  },
  {
   "cell_type": "code",
   "execution_count": 4,
   "metadata": {},
   "outputs": [
    {
     "data": {
      "text/plain": [
       "15"
      ]
     },
     "execution_count": 4,
     "metadata": {},
     "output_type": "execute_result"
    }
   ],
   "source": [
    "stock[\"orange\"]"
   ]
  },
  {
   "cell_type": "code",
   "execution_count": 6,
   "metadata": {},
   "outputs": [
    {
     "data": {
      "text/plain": [
       "{'banana': 6, 'apple': 0, 'orange': 32, 'pear': 15, 'cherry': 24}"
      ]
     },
     "execution_count": 6,
     "metadata": {},
     "output_type": "execute_result"
    }
   ],
   "source": [
    "#Add cherry to the stock and prices dictionaries\n",
    "\n",
    "stock.update({\"cherry\":24})\n",
    "\n",
    "prices.update({\"cherry\":2.5})"
   ]
  },
  {
   "cell_type": "markdown",
   "metadata": {},
   "source": [
    "## b. Write the code for a loop that iterates over the stock dictionary and prints each key and value."
   ]
  },
  {
   "cell_type": "code",
   "execution_count": 9,
   "metadata": {},
   "outputs": [
    {
     "name": "stdout",
     "output_type": "stream",
     "text": [
      "banana 6\n",
      "apple 0\n",
      "orange 32\n",
      "pear 15\n",
      "cherry 24\n"
     ]
    }
   ],
   "source": [
    "for key in stock:\n",
    "   print(key,stock[key])"
   ]
  },
  {
   "cell_type": "markdown",
   "metadata": {},
   "source": [
    "## c. Write the code that will sum the total number in stock of the items in the groceries list."
   ]
  },
  {
   "cell_type": "code",
   "execution_count": 11,
   "metadata": {},
   "outputs": [
    {
     "name": "stdout",
     "output_type": "stream",
     "text": [
      "The total stock on the grocery list is 21\n"
     ]
    },
    {
     "data": {
      "text/plain": [
       "[0, 6, 15]"
      ]
     },
     "execution_count": 11,
     "metadata": {},
     "output_type": "execute_result"
    }
   ],
   "source": [
    "groceries = ['apple','banana','pear']\n",
    "\n",
    "stocks = []\n",
    "\n",
    "for key in groceries:\n",
    "  stocks.append(stock[key])\n",
    "\n",
    "print('The total stock on the grocery list is',sum(stocks))"
   ]
  },
  {
   "cell_type": "code",
   "execution_count": 13,
   "metadata": {},
   "outputs": [
    {
     "name": "stdout",
     "output_type": "stream",
     "text": [
      "The total stock on the grocery list is... 21\n"
     ]
    }
   ],
   "source": [
    "# Pythonic version of this solution\n",
    "groceries = ['apple','banana','pear']\n",
    "\n",
    "stocks = [stock[key] for key in groceries]\n",
    "\n",
    "print('The total stock on the grocery list is...', sum(stocks))"
   ]
  },
  {
   "cell_type": "markdown",
   "metadata": {},
   "source": [
    "## d. Write the code that can print out the total value in stock of all the items. This program can iterate over the stock dictionary and for each item multiply the number in stock times the price of that item in the prices dictionary."
   ]
  },
  {
   "cell_type": "code",
   "execution_count": 17,
   "metadata": {},
   "outputs": [
    {
     "name": "stdout",
     "output_type": "stream",
     "text": [
      "{'banana': 24, 'apple': 0, 'orange': 48.0, 'pear': 45, 'cherry': 60.0}\n",
      "  \n",
      "The total price of all the stock is $ 177.0\n"
     ]
    }
   ],
   "source": [
    "print({k: prices[k]*stock[k] for k in prices})\n",
    "print('  ')\n",
    "print('The total price of all the stock is $',sum(prices[k]*stock[k] for k in prices))"
   ]
  },
  {
   "cell_type": "code",
   "execution_count": 19,
   "metadata": {},
   "outputs": [
    {
     "name": "stdout",
     "output_type": "stream",
     "text": [
      "The total price of all the stock is $ 177.0\n"
     ]
    }
   ],
   "source": [
    "new_stock_prices = {key: prices[key]*stock[key] for key in prices}\n",
    "\n",
    "print('The total price of all the stock is $',sum(new_stock_prices[key] for key in new_stock_prices))"
   ]
  },
  {
   "cell_type": "code",
   "execution_count": null,
   "metadata": {},
   "outputs": [],
   "source": []
  }
 ],
 "metadata": {
  "kernelspec": {
   "display_name": "Python 3",
   "language": "python",
   "name": "python3"
  },
  "language_info": {
   "codemirror_mode": {
    "name": "ipython",
    "version": 3
   },
   "file_extension": ".py",
   "mimetype": "text/x-python",
   "name": "python",
   "nbconvert_exporter": "python",
   "pygments_lexer": "ipython3",
   "version": "3.7.3"
  }
 },
 "nbformat": 4,
 "nbformat_minor": 2
}
